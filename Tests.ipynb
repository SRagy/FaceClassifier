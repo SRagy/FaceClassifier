{
 "cells": [
  {
   "cell_type": "markdown",
   "metadata": {},
   "source": [
    "# Tests"
   ]
  },
  {
   "cell_type": "markdown",
   "metadata": {},
   "source": [
    "## Block tests"
   ]
  },
  {
   "cell_type": "code",
   "execution_count": 1,
   "metadata": {
    "execution": {
     "iopub.execute_input": "2024-01-20T13:35:37.009357Z",
     "iopub.status.busy": "2024-01-20T13:35:37.008981Z",
     "iopub.status.idle": "2024-01-20T13:35:38.972618Z",
     "shell.execute_reply": "2024-01-20T13:35:38.971716Z",
     "shell.execute_reply.started": "2024-01-20T13:35:37.009331Z"
    }
   },
   "outputs": [],
   "source": [
    "from residual_blocks import ClassicBottleneck, InvertedBottleneck, ConvNeXtBlock\n",
    "import torch\n",
    "from architecture import Stem, Body, Head"
   ]
  },
  {
   "cell_type": "markdown",
   "metadata": {},
   "source": [
    "### Classic bottleneck block"
   ]
  },
  {
   "cell_type": "code",
   "execution_count": 2,
   "metadata": {
    "execution": {
     "iopub.execute_input": "2024-01-19T20:51:19.089908Z",
     "iopub.status.busy": "2024-01-19T20:51:19.089672Z",
     "iopub.status.idle": "2024-01-19T20:51:19.096428Z",
     "shell.execute_reply": "2024-01-19T20:51:19.095774Z",
     "shell.execute_reply.started": "2024-01-19T20:51:19.089885Z"
    }
   },
   "outputs": [
    {
     "name": "stderr",
     "output_type": "stream",
     "text": [
      "/usr/local/lib/python3.9/dist-packages/torch/nn/modules/lazy.py:178: UserWarning: Lazy modules are a new feature under heavy development so changes to the API or functionality can happen at any moment.\n",
      "  warnings.warn('Lazy modules are a new feature under heavy development '\n"
     ]
    }
   ],
   "source": [
    "classic_bottleneck_block = ClassicBottleneck(10,5,3)"
   ]
  },
  {
   "cell_type": "code",
   "execution_count": 3,
   "metadata": {
    "execution": {
     "iopub.execute_input": "2024-01-19T20:51:19.435821Z",
     "iopub.status.busy": "2024-01-19T20:51:19.435233Z",
     "iopub.status.idle": "2024-01-19T20:51:19.640000Z",
     "shell.execute_reply": "2024-01-19T20:51:19.639319Z",
     "shell.execute_reply.started": "2024-01-19T20:51:19.435798Z"
    }
   },
   "outputs": [
    {
     "data": {
      "text/plain": [
       "torch.Size([3, 10, 50, 50])"
      ]
     },
     "execution_count": 3,
     "metadata": {},
     "output_type": "execute_result"
    }
   ],
   "source": [
    "# Batch, exterior channels, x, y\n",
    "test_input = torch.rand([3,10,50,50])\n",
    "classic_bottleneck_block(test_input).size()"
   ]
  },
  {
   "cell_type": "markdown",
   "metadata": {},
   "source": [
    "### Inverse bottleneck block"
   ]
  },
  {
   "cell_type": "code",
   "execution_count": 4,
   "metadata": {
    "execution": {
     "iopub.execute_input": "2024-01-19T20:51:20.882229Z",
     "iopub.status.busy": "2024-01-19T20:51:20.881386Z",
     "iopub.status.idle": "2024-01-19T20:51:20.886963Z",
     "shell.execute_reply": "2024-01-19T20:51:20.886294Z",
     "shell.execute_reply.started": "2024-01-19T20:51:20.882202Z"
    }
   },
   "outputs": [],
   "source": [
    "inverted_bottleneck_block = InvertedBottleneck(10,10)"
   ]
  },
  {
   "cell_type": "code",
   "execution_count": 5,
   "metadata": {
    "execution": {
     "iopub.execute_input": "2024-01-19T20:51:21.716531Z",
     "iopub.status.busy": "2024-01-19T20:51:21.715661Z",
     "iopub.status.idle": "2024-01-19T20:51:21.937465Z",
     "shell.execute_reply": "2024-01-19T20:51:21.937008Z",
     "shell.execute_reply.started": "2024-01-19T20:51:21.716503Z"
    }
   },
   "outputs": [
    {
     "data": {
      "text/plain": [
       "torch.Size([3, 10, 50, 50])"
      ]
     },
     "execution_count": 5,
     "metadata": {},
     "output_type": "execute_result"
    }
   ],
   "source": [
    "test_input = torch.rand([3,10,50,50])\n",
    "inverted_bottleneck_block(test_input).size()"
   ]
  },
  {
   "cell_type": "code",
   "execution_count": 6,
   "metadata": {
    "execution": {
     "iopub.execute_input": "2024-01-19T20:51:23.666984Z",
     "iopub.status.busy": "2024-01-19T20:51:23.666171Z",
     "iopub.status.idle": "2024-01-19T20:51:24.215407Z",
     "shell.execute_reply": "2024-01-19T20:51:24.214929Z",
     "shell.execute_reply.started": "2024-01-19T20:51:23.666958Z"
    }
   },
   "outputs": [
    {
     "data": {
      "text/plain": [
       "True"
      ]
     },
     "execution_count": 6,
     "metadata": {},
     "output_type": "execute_result"
    }
   ],
   "source": [
    "resid_output = inverted_bottleneck_block(test_input)\n",
    "inverted_bottleneck_block.use_residual = False\n",
    "resid_output_2 = inverted_bottleneck_block(test_input) + test_input\n",
    "\n",
    "all((resid_output == resid_output_2).reshape(-1))"
   ]
  },
  {
   "cell_type": "code",
   "execution_count": 7,
   "metadata": {
    "execution": {
     "iopub.execute_input": "2024-01-19T20:51:24.928848Z",
     "iopub.status.busy": "2024-01-19T20:51:24.928009Z",
     "iopub.status.idle": "2024-01-19T20:51:24.932624Z",
     "shell.execute_reply": "2024-01-19T20:51:24.932145Z",
     "shell.execute_reply.started": "2024-01-19T20:51:24.928819Z"
    }
   },
   "outputs": [],
   "source": [
    "inverted_bottleneck_block_2 = InvertedBottleneck(10,20, kernel_size=7,stride=4, use_residual=False)"
   ]
  },
  {
   "cell_type": "code",
   "execution_count": 8,
   "metadata": {
    "execution": {
     "iopub.execute_input": "2024-01-19T20:51:25.157504Z",
     "iopub.status.busy": "2024-01-19T20:51:25.156695Z",
     "iopub.status.idle": "2024-01-19T20:51:25.340274Z",
     "shell.execute_reply": "2024-01-19T20:51:25.339799Z",
     "shell.execute_reply.started": "2024-01-19T20:51:25.157480Z"
    }
   },
   "outputs": [
    {
     "data": {
      "text/plain": [
       "torch.Size([3, 20, 13, 13])"
      ]
     },
     "execution_count": 8,
     "metadata": {},
     "output_type": "execute_result"
    }
   ],
   "source": [
    "inverted_bottleneck_block_2(test_input).size()"
   ]
  },
  {
   "cell_type": "markdown",
   "metadata": {},
   "source": [
    "### ConvNeXt"
   ]
  },
  {
   "cell_type": "code",
   "execution_count": 9,
   "metadata": {
    "execution": {
     "iopub.execute_input": "2024-01-19T20:51:25.530059Z",
     "iopub.status.busy": "2024-01-19T20:51:25.529410Z",
     "iopub.status.idle": "2024-01-19T20:51:25.533393Z",
     "shell.execute_reply": "2024-01-19T20:51:25.532956Z",
     "shell.execute_reply.started": "2024-01-19T20:51:25.530036Z"
    }
   },
   "outputs": [],
   "source": [
    "convnext_block = ConvNeXtBlock(10,10)"
   ]
  },
  {
   "cell_type": "code",
   "execution_count": 10,
   "metadata": {
    "execution": {
     "iopub.execute_input": "2024-01-19T20:51:25.912926Z",
     "iopub.status.busy": "2024-01-19T20:51:25.912464Z",
     "iopub.status.idle": "2024-01-19T20:51:26.005654Z",
     "shell.execute_reply": "2024-01-19T20:51:26.005093Z",
     "shell.execute_reply.started": "2024-01-19T20:51:25.912901Z"
    }
   },
   "outputs": [
    {
     "data": {
      "text/plain": [
       "torch.Size([3, 10, 50, 50])"
      ]
     },
     "execution_count": 10,
     "metadata": {},
     "output_type": "execute_result"
    }
   ],
   "source": [
    "convnext_block(test_input).size()"
   ]
  },
  {
   "cell_type": "markdown",
   "metadata": {},
   "source": [
    "## Parameter Counts"
   ]
  },
  {
   "cell_type": "code",
   "execution_count": 11,
   "metadata": {
    "execution": {
     "iopub.execute_input": "2024-01-19T09:52:54.394410Z",
     "iopub.status.busy": "2024-01-19T09:52:54.394172Z",
     "iopub.status.idle": "2024-01-19T09:52:54.397437Z",
     "shell.execute_reply": "2024-01-19T09:52:54.396804Z",
     "shell.execute_reply.started": "2024-01-19T09:52:54.394392Z"
    }
   },
   "outputs": [],
   "source": [
    "def count_params(model):\n",
    "    return sum(p.numel() for p in model.parameters())"
   ]
  },
  {
   "cell_type": "code",
   "execution_count": 12,
   "metadata": {
    "execution": {
     "iopub.execute_input": "2024-01-19T09:52:55.044776Z",
     "iopub.status.busy": "2024-01-19T09:52:55.044550Z",
     "iopub.status.idle": "2024-01-19T09:52:56.776449Z",
     "shell.execute_reply": "2024-01-19T09:52:56.767619Z",
     "shell.execute_reply.started": "2024-01-19T09:52:55.044760Z"
    }
   },
   "outputs": [
    {
     "name": "stdout",
     "output_type": "stream",
     "text": [
      "total parameters = 19157641. Target of < 21m achieved\n"
     ]
    }
   ],
   "source": [
    "fake_input = torch.randn((2,3,224,224)) #batch_size 2, 3 input channels\n",
    "stem = Stem(out_channels=80, stem_type='patchify')\n",
    "stem(fake_input)\n",
    "body = Body()\n",
    "out = body(stem(fake_input))\n",
    "head = Head(out.size(1))\n",
    "head(out) # just to check it runs\n",
    "total_params = count_params(body)+count_params(head)+count_params(stem)\n",
    "target_achieved = 'achieved' if total_params < 21000000 else 'exceeded'\n",
    "print(f'total parameters = {total_params}. Target of < 21m {target_achieved}')"
   ]
  },
  {
   "cell_type": "markdown",
   "metadata": {},
   "source": [
    "## Data"
   ]
  },
  {
   "cell_type": "code",
   "execution_count": 1,
   "metadata": {
    "execution": {
     "iopub.execute_input": "2024-01-20T15:35:30.084806Z",
     "iopub.status.busy": "2024-01-20T15:35:30.084544Z",
     "iopub.status.idle": "2024-01-20T15:35:32.628951Z",
     "shell.execute_reply": "2024-01-20T15:35:32.628095Z",
     "shell.execute_reply.started": "2024-01-20T15:35:30.084782Z"
    }
   },
   "outputs": [
    {
     "name": "stderr",
     "output_type": "stream",
     "text": [
      "/usr/local/lib/python3.9/dist-packages/torchvision/transforms/v2/_deprecated.py:43: UserWarning: The transform `ToTensor()` is deprecated and will be removed in a future release. Instead, please use `v2.Compose([v2.ToImage(), v2.ToDtype(torch.float32, scale=True)])`.\n",
      "  warnings.warn(\n"
     ]
    }
   ],
   "source": [
    "from data import DefaultLoader, calculate_mean_std\n",
    "from tqdm import tqdm"
   ]
  },
  {
   "cell_type": "code",
   "execution_count": 2,
   "metadata": {
    "execution": {
     "iopub.execute_input": "2024-01-20T15:35:32.631083Z",
     "iopub.status.busy": "2024-01-20T15:35:32.630229Z",
     "iopub.status.idle": "2024-01-20T15:35:46.501447Z",
     "shell.execute_reply": "2024-01-20T15:35:46.500669Z",
     "shell.execute_reply.started": "2024-01-20T15:35:32.631053Z"
    }
   },
   "outputs": [],
   "source": [
    "train_dataloader = DefaultLoader.load_train(batch_size=256, keep_ratio=0.1)"
   ]
  },
  {
   "cell_type": "code",
   "execution_count": null,
   "metadata": {},
   "outputs": [],
   "source": [
    "train_dataloader.label_count"
   ]
  },
  {
   "cell_type": "code",
   "execution_count": 15,
   "metadata": {
    "execution": {
     "iopub.execute_input": "2024-01-19T10:04:16.385102Z",
     "iopub.status.busy": "2024-01-19T10:04:16.384516Z",
     "iopub.status.idle": "2024-01-19T10:35:40.319044Z",
     "shell.execute_reply": "2024-01-19T10:35:40.318405Z",
     "shell.execute_reply.started": "2024-01-19T10:04:16.385094Z"
    }
   },
   "outputs": [
    {
     "data": {
      "text/plain": [
       "(tensor([0.5103, 0.4014, 0.3509]), tensor([0.2708, 0.2363, 0.2226]))"
      ]
     },
     "execution_count": 15,
     "metadata": {},
     "output_type": "execute_result"
    }
   ],
   "source": [
    "calculate_mean_std(train_dataloader)"
   ]
  }
 ],
 "metadata": {
  "kernelspec": {
   "display_name": "Python 3 (ipykernel)",
   "language": "python",
   "name": "python3"
  },
  "language_info": {
   "codemirror_mode": {
    "name": "ipython",
    "version": 3
   },
   "file_extension": ".py",
   "mimetype": "text/x-python",
   "name": "python",
   "nbconvert_exporter": "python",
   "pygments_lexer": "ipython3",
   "version": "3.9.16"
  }
 },
 "nbformat": 4,
 "nbformat_minor": 4
}
