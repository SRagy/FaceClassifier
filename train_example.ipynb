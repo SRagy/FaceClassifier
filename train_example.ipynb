{
 "cells": [
  {
   "cell_type": "code",
   "execution_count": 1,
   "id": "b810de89-0521-4d98-8eb8-3b57f64058ae",
   "metadata": {
    "execution": {
     "iopub.execute_input": "2024-01-21T14:29:35.564994Z",
     "iopub.status.busy": "2024-01-21T14:29:35.564143Z",
     "iopub.status.idle": "2024-01-21T14:29:41.216425Z",
     "shell.execute_reply": "2024-01-21T14:29:41.215618Z",
     "shell.execute_reply.started": "2024-01-21T14:29:35.564964Z"
    }
   },
   "outputs": [
    {
     "name": "stderr",
     "output_type": "stream",
     "text": [
      "/usr/local/lib/python3.9/dist-packages/pl_bolts/models/self_supervised/amdim/amdim_module.py:34: UnderReviewWarning: The feature generate_power_seq is currently marked under review. The compatibility with other Lightning projects is not guaranteed and API may change at any time. The API and functionality may change without warning in future releases. More details: https://lightning-bolts.readthedocs.io/en/latest/stability.html\n",
      "  \"lr_options\": generate_power_seq(LEARNING_RATE_CIFAR, 11),\n",
      "/usr/local/lib/python3.9/dist-packages/pl_bolts/models/self_supervised/amdim/amdim_module.py:92: UnderReviewWarning: The feature FeatureMapContrastiveTask is currently marked under review. The compatibility with other Lightning projects is not guaranteed and API may change at any time. The API and functionality may change without warning in future releases. More details: https://lightning-bolts.readthedocs.io/en/latest/stability.html\n",
      "  contrastive_task: Union[FeatureMapContrastiveTask] = FeatureMapContrastiveTask(\"01, 02, 11\"),\n",
      "/usr/local/lib/python3.9/dist-packages/pl_bolts/losses/self_supervised_learning.py:228: UnderReviewWarning: The feature AmdimNCELoss is currently marked under review. The compatibility with other Lightning projects is not guaranteed and API may change at any time. The API and functionality may change without warning in future releases. More details: https://lightning-bolts.readthedocs.io/en/latest/stability.html\n",
      "  self.nce_loss = AmdimNCELoss(tclip)\n",
      "/usr/local/lib/python3.9/dist-packages/torchvision/transforms/v2/_deprecated.py:43: UserWarning: The transform `ToTensor()` is deprecated and will be removed in a future release. Instead, please use `v2.Compose([v2.ToImage(), v2.ToDtype(torch.float32, scale=True)])`.\n",
      "  warnings.warn(\n"
     ]
    }
   ],
   "source": [
    "import torch\n",
    "from training import Trainer\n",
    "from data import default_train_transforms, DefaultLoader\n",
    "from architecture import FaceNN\n",
    "from torchvision.models.convnext import CNBlockConfig, ConvNeXt\n",
    "from torchvision.transforms import v2"
   ]
  },
  {
   "cell_type": "markdown",
   "id": "21bdff36-b3c4-4ac4-adb0-9afa6ef48937",
   "metadata": {},
   "source": [
    "## Prepare for training"
   ]
  },
  {
   "cell_type": "code",
   "execution_count": 2,
   "id": "1c7b772d-bfff-4db4-8e5f-dad226cd82a1",
   "metadata": {
    "execution": {
     "iopub.execute_input": "2024-01-21T14:29:41.218264Z",
     "iopub.status.busy": "2024-01-21T14:29:41.217722Z",
     "iopub.status.idle": "2024-01-21T14:29:58.217730Z",
     "shell.execute_reply": "2024-01-21T14:29:58.216535Z",
     "shell.execute_reply.started": "2024-01-21T14:29:41.218264Z"
    }
   },
   "outputs": [],
   "source": [
    "# custom_transforms = v2.Compose([v2.RandomRotation(20),\n",
    "#                                        v2.RandomHorizontalFlip(),\n",
    "#                                        v2.ToImage(), \n",
    "#                                        v2.ToDtype(torch.float32, scale=True),\n",
    "#                                        v2.Normalize([0.5103, 0.4014, 0.3509], [0.2708, 0.2363, 0.2226])])\n",
    "\n",
    "val_transforms = v2.Compose([v2.ToImage(), v2.ToDtype(torch.float32, scale=True), v2.Normalize([0.5103, 0.4014, 0.3509], [0.2708, 0.2363, 0.2226])])\n",
    "\n",
    "train_loader = DefaultLoader.load_train(transform=default_train_transforms, keep_ratio=0.1, pin_memory=True, num_workers=8, batch_size=128)\n",
    "#train_loader = DefaultLoader.load_train(keep_ratio=0.1,  pin_memory=True, num_workers=4, batch_size=256 )\n",
    "val_loader = DefaultLoader.load_val(keep_ratio=0.1, transform=val_transforms, pin_memory=True, num_workers=4, batch_size=128)\n",
    "# neural_net = FaceNN(stem_type='classic').to('cuda')\n",
    "\n",
    "block_setting = [\n",
    "        CNBlockConfig(80, 160, 2),\n",
    "        CNBlockConfig(160, 320, 2),\n",
    "        CNBlockConfig(320, 640, 6),\n",
    "        CNBlockConfig(640, None, 3),\n",
    "    ]\n",
    "\n",
    "neural_net = ConvNeXt(block_setting=block_setting, num_classes=701).to('cuda')"
   ]
  },
  {
   "cell_type": "code",
   "execution_count": 3,
   "id": "9027cd48-e6ae-4781-834a-b5d8af19fa19",
   "metadata": {
    "execution": {
     "iopub.execute_input": "2024-01-21T14:29:58.219532Z",
     "iopub.status.busy": "2024-01-21T14:29:58.219214Z",
     "iopub.status.idle": "2024-01-21T14:29:58.226596Z",
     "shell.execute_reply": "2024-01-21T14:29:58.226049Z",
     "shell.execute_reply.started": "2024-01-21T14:29:58.219503Z"
    }
   },
   "outputs": [
    {
     "name": "stderr",
     "output_type": "stream",
     "text": [
      "/notebooks/FaceClassifier/training.py:85: UnderReviewWarning: The feature LinearWarmupCosineAnnealingLR is currently marked under review. The compatibility with other Lightning projects is not guaranteed and API may change at any time. The API and functionality may change without warning in future releases. More details: https://lightning-bolts.readthedocs.io/en/latest/stability.html\n",
      "  self._lr_scheduler=LinearWarmupCosineAnnealingLR(self._optimizer,\n"
     ]
    }
   ],
   "source": [
    "trainer = Trainer(train_loader, val_loader, neural_net, \n",
    "                  use_cutmix=False, num_classes=701, device='cuda', \n",
    "                  save_and_load_filename = 'checkpoint/convnext_4.pkl')"
   ]
  },
  {
   "cell_type": "code",
   "execution_count": 4,
   "id": "33c8e6b3-b14a-4ae8-a8e8-4c79e0a815bf",
   "metadata": {
    "execution": {
     "iopub.execute_input": "2024-01-21T13:48:26.642984Z",
     "iopub.status.busy": "2024-01-21T13:48:26.642807Z",
     "iopub.status.idle": "2024-01-21T13:48:27.347345Z",
     "shell.execute_reply": "2024-01-21T13:48:27.346349Z",
     "shell.execute_reply.started": "2024-01-21T13:48:26.642967Z"
    }
   },
   "outputs": [
    {
     "name": "stdout",
     "output_type": "stream",
     "text": [
      "loaded trainer state at epoch 83\n"
     ]
    },
    {
     "data": {
      "text/plain": [
       "[0.0014285714132711291,\n",
       " 0.0011428571306169033,\n",
       " 0.0025714286603033543,\n",
       " 0.004571428522467613,\n",
       " 0.0037142857909202576,\n",
       " 0.0037142857909202576,\n",
       " 0.004857142921537161,\n",
       " 0.005428571254014969,\n",
       " 0.004571428522467613,\n",
       " 0.009142857044935226,\n",
       " 0.011428571306169033,\n",
       " 0.01342857163399458,\n",
       " 0.01914285682141781,\n",
       " 0.023428570479154587,\n",
       " 0.02857142873108387,\n",
       " 0.03885714337229729,\n",
       " 0.04485714063048363,\n",
       " 0.06199999898672104,\n",
       " 0.08342856913805008,\n",
       " 0.08999999612569809,\n",
       " 0.12057142704725266,\n",
       " 0.1322857141494751,\n",
       " 0.15228570997714996,\n",
       " 0.170571431517601,\n",
       " 0.20142856240272522,\n",
       " 0.22228571772575378,\n",
       " 0.22599999606609344,\n",
       " 0.25,\n",
       " 0.2688571512699127,\n",
       " 0.25771427154541016,\n",
       " 0.30714285373687744,\n",
       " 0.30399999022483826,\n",
       " 0.31771427392959595,\n",
       " 0.3408571481704712,\n",
       " 0.34371429681777954,\n",
       " 0.35771429538726807,\n",
       " 0.3545714318752289,\n",
       " 0.36971428990364075,\n",
       " 0.3742856979370117,\n",
       " 0.39171427488327026,\n",
       " 0.38914284110069275,\n",
       " 0.3879999816417694,\n",
       " 0.4017142951488495,\n",
       " 0.399142861366272,\n",
       " 0.4179999828338623,\n",
       " 0.4194285571575165,\n",
       " 0.4311428666114807,\n",
       " 0.4300000071525574,\n",
       " 0.4165714383125305,\n",
       " 0.4408571422100067,\n",
       " 0.4414285719394684,\n",
       " 0.4325714111328125,\n",
       " 0.44428572058677673,\n",
       " 0.44428572058677673,\n",
       " 0.44114285707473755,\n",
       " 0.4514285624027252,\n",
       " 0.45257142186164856,\n",
       " 0.45314285159111023,\n",
       " 0.4497142732143402,\n",
       " 0.4577142894268036,\n",
       " 0.4602857232093811,\n",
       " 0.47428572177886963,\n",
       " 0.47542858123779297,\n",
       " 0.46971428394317627,\n",
       " 0.46857142448425293,\n",
       " 0.47371429204940796,\n",
       " 0.4771428406238556,\n",
       " 0.4814285635948181,\n",
       " 0.4822857081890106,\n",
       " 0.48828572034835815,\n",
       " 0.48342856764793396,\n",
       " 0.48742857575416565,\n",
       " 0.49142855405807495,\n",
       " 0.4985714256763458,\n",
       " 0.4934285581111908,\n",
       " 0.4908571243286133,\n",
       " 0.49657142162323,\n",
       " 0.4911428391933441,\n",
       " 0.4974285662174225,\n",
       " 0.4959999918937683,\n",
       " 0.4925714135169983,\n",
       " 0.4985714256763458,\n",
       " 0.5019999742507935]"
      ]
     },
     "execution_count": 4,
     "metadata": {},
     "output_type": "execute_result"
    }
   ],
   "source": [
    "# trainer.load()\n",
    "# trainer.correct_fracs"
   ]
  },
  {
   "cell_type": "code",
   "execution_count": 4,
   "id": "c6147d3c-202a-4425-adfa-416ece3d046d",
   "metadata": {
    "execution": {
     "iopub.execute_input": "2024-01-21T14:29:58.227882Z",
     "iopub.status.busy": "2024-01-21T14:29:58.227714Z",
     "iopub.status.idle": "2024-01-21T14:48:58.918941Z",
     "shell.execute_reply": "2024-01-21T14:48:58.915079Z",
     "shell.execute_reply.started": "2024-01-21T14:29:58.227866Z"
    }
   },
   "outputs": [
    {
     "name": "stderr",
     "output_type": "stream",
     "text": [
      "Epoch Train Progress: 100%|██████████| 110/110 [01:31<00:00,  1.20it/s]\n",
      "Epoch Val Progress: 100%|██████████| 28/28 [00:06<00:00,  4.34it/s]\n"
     ]
    },
    {
     "name": "stdout",
     "output_type": "stream",
     "text": [
      " epoch = 1, train loss = 7.240e+02, percent_correct = 0.2%, epochs since improvement = 0, lr=[0.00012105263157894738]\n",
      "saved trainer state at epoch 1\n"
     ]
    },
    {
     "name": "stderr",
     "output_type": "stream",
     "text": [
      "Epoch Train Progress: 100%|██████████| 110/110 [01:30<00:00,  1.22it/s]\n",
      "Epoch Val Progress: 100%|██████████| 28/28 [00:07<00:00,  3.99it/s]\n"
     ]
    },
    {
     "name": "stdout",
     "output_type": "stream",
     "text": [
      " epoch = 2, train loss = 7.180e+02, percent_correct = 0.4%, epochs since improvement = 0, lr=[0.00014210526315789474]\n",
      "saved trainer state at epoch 2\n"
     ]
    },
    {
     "name": "stderr",
     "output_type": "stream",
     "text": [
      "Epoch Train Progress: 100%|██████████| 110/110 [01:30<00:00,  1.21it/s]\n",
      "Epoch Val Progress: 100%|██████████| 28/28 [00:07<00:00,  3.95it/s]\n"
     ]
    },
    {
     "name": "stdout",
     "output_type": "stream",
     "text": [
      " epoch = 3, train loss = 7.133e+02, percent_correct = 0.5%, epochs since improvement = 0, lr=[0.0001631578947368421]\n",
      "saved trainer state at epoch 3\n"
     ]
    },
    {
     "name": "stderr",
     "output_type": "stream",
     "text": [
      "Epoch Train Progress: 100%|██████████| 110/110 [01:30<00:00,  1.21it/s]\n",
      "Epoch Val Progress: 100%|██████████| 28/28 [00:05<00:00,  4.68it/s]\n"
     ]
    },
    {
     "name": "stdout",
     "output_type": "stream",
     "text": [
      " epoch = 4, train loss = 7.014e+02, percent_correct = 0.8%, epochs since improvement = 0, lr=[0.00018421052631578948]\n",
      "saved trainer state at epoch 4\n"
     ]
    },
    {
     "name": "stderr",
     "output_type": "stream",
     "text": [
      "Epoch Train Progress: 100%|██████████| 110/110 [01:30<00:00,  1.22it/s]\n",
      "Epoch Val Progress: 100%|██████████| 28/28 [00:04<00:00,  6.26it/s]\n"
     ]
    },
    {
     "name": "stdout",
     "output_type": "stream",
     "text": [
      " epoch = 5, train loss = 6.891e+02, percent_correct = 1.4%, epochs since improvement = 0, lr=[0.00020526315789473685]\n",
      "saved trainer state at epoch 5\n"
     ]
    },
    {
     "name": "stderr",
     "output_type": "stream",
     "text": [
      "Epoch Train Progress: 100%|██████████| 110/110 [01:30<00:00,  1.22it/s]\n",
      "Epoch Val Progress: 100%|██████████| 28/28 [00:04<00:00,  6.52it/s]\n"
     ]
    },
    {
     "name": "stdout",
     "output_type": "stream",
     "text": [
      " epoch = 6, train loss = 6.775e+02, percent_correct = 2.1%, epochs since improvement = 0, lr=[0.00022631578947368422]\n",
      "saved trainer state at epoch 6\n"
     ]
    },
    {
     "name": "stderr",
     "output_type": "stream",
     "text": [
      "Epoch Train Progress: 100%|██████████| 110/110 [01:30<00:00,  1.22it/s]\n",
      "Epoch Val Progress: 100%|██████████| 28/28 [00:04<00:00,  6.44it/s]\n"
     ]
    },
    {
     "name": "stdout",
     "output_type": "stream",
     "text": [
      " epoch = 7, train loss = 6.653e+02, percent_correct = 2.5%, epochs since improvement = 0, lr=[0.0002473684210526316]\n",
      "saved trainer state at epoch 7\n"
     ]
    },
    {
     "name": "stderr",
     "output_type": "stream",
     "text": [
      "Epoch Train Progress: 100%|██████████| 110/110 [01:30<00:00,  1.22it/s]\n",
      "Epoch Val Progress: 100%|██████████| 28/28 [00:04<00:00,  6.46it/s]\n"
     ]
    },
    {
     "name": "stdout",
     "output_type": "stream",
     "text": [
      " epoch = 8, train loss = 6.532e+02, percent_correct = 2.2%, epochs since improvement = 0, lr=[0.00026842105263157897]\n",
      "saved trainer state at epoch 8\n"
     ]
    },
    {
     "name": "stderr",
     "output_type": "stream",
     "text": [
      "Epoch Train Progress: 100%|██████████| 110/110 [01:30<00:00,  1.22it/s]\n",
      "Epoch Val Progress: 100%|██████████| 28/28 [00:04<00:00,  6.50it/s]\n"
     ]
    },
    {
     "name": "stdout",
     "output_type": "stream",
     "text": [
      " epoch = 9, train loss = 6.371e+02, percent_correct = 3.4%, epochs since improvement = 0, lr=[0.00028947368421052634]\n",
      "saved trainer state at epoch 9\n"
     ]
    },
    {
     "name": "stderr",
     "output_type": "stream",
     "text": [
      "Epoch Train Progress: 100%|██████████| 110/110 [01:30<00:00,  1.21it/s]\n",
      "Epoch Val Progress: 100%|██████████| 28/28 [00:04<00:00,  6.32it/s]\n"
     ]
    },
    {
     "name": "stdout",
     "output_type": "stream",
     "text": [
      " epoch = 10, train loss = 6.226e+02, percent_correct = 5.3%, epochs since improvement = 0, lr=[0.0003105263157894737]\n",
      "saved trainer state at epoch 10\n"
     ]
    },
    {
     "name": "stderr",
     "output_type": "stream",
     "text": [
      "Epoch Train Progress: 100%|██████████| 110/110 [01:30<00:00,  1.22it/s]\n",
      "Epoch Val Progress: 100%|██████████| 28/28 [00:04<00:00,  6.55it/s]\n"
     ]
    },
    {
     "name": "stdout",
     "output_type": "stream",
     "text": [
      " epoch = 11, train loss = 6.032e+02, percent_correct = 7.1%, epochs since improvement = 0, lr=[0.0003315789473684211]\n",
      "saved trainer state at epoch 11\n"
     ]
    },
    {
     "name": "stderr",
     "output_type": "stream",
     "text": [
      "Epoch Train Progress:  91%|█████████ | 100/110 [01:22<00:08,  1.21it/s]\n"
     ]
    },
    {
     "ename": "KeyboardInterrupt",
     "evalue": "",
     "output_type": "error",
     "traceback": [
      "\u001b[0;31m---------------------------------------------------------------------------\u001b[0m",
      "\u001b[0;31mKeyboardInterrupt\u001b[0m                         Traceback (most recent call last)",
      "Cell \u001b[0;32mIn [4], line 1\u001b[0m\n\u001b[0;32m----> 1\u001b[0m \u001b[43mtrainer\u001b[49m\u001b[38;5;241;43m.\u001b[39;49m\u001b[43mtrain\u001b[49m\u001b[43m(\u001b[49m\u001b[43m)\u001b[49m\n",
      "File \u001b[0;32m/notebooks/FaceClassifier/training.py:218\u001b[0m, in \u001b[0;36mTrainer.train\u001b[0;34m(self, epochs)\u001b[0m\n\u001b[1;32m    216\u001b[0m \u001b[38;5;28;01mfor\u001b[39;00m i \u001b[38;5;129;01min\u001b[39;00m \u001b[38;5;28mrange\u001b[39m(epochs):\n\u001b[1;32m    217\u001b[0m     \u001b[38;5;28mself\u001b[39m\u001b[38;5;241m.\u001b[39m_trained_epochs \u001b[38;5;241m+\u001b[39m\u001b[38;5;241m=\u001b[39m \u001b[38;5;241m1\u001b[39m\n\u001b[0;32m--> 218\u001b[0m     train_loss \u001b[38;5;241m=\u001b[39m \u001b[38;5;28;43mself\u001b[39;49m\u001b[38;5;241;43m.\u001b[39;49m\u001b[43mtraining_loop\u001b[49m\u001b[43m(\u001b[49m\u001b[38;5;28;43mself\u001b[39;49m\u001b[38;5;241;43m.\u001b[39;49m\u001b[43m_train_loader\u001b[49m\u001b[43m)\u001b[49m\n\u001b[1;32m    219\u001b[0m     val_loss, correct_frac \u001b[38;5;241m=\u001b[39m \u001b[38;5;28mself\u001b[39m\u001b[38;5;241m.\u001b[39mvalidation_loop(\u001b[38;5;28mself\u001b[39m\u001b[38;5;241m.\u001b[39m_val_loader)\n\u001b[1;32m    220\u001b[0m     \u001b[38;5;28;01mif\u001b[39;00m val_loss \u001b[38;5;241m<\u001b[39m best_loss:\n",
      "File \u001b[0;32m/notebooks/FaceClassifier/training.py:121\u001b[0m, in \u001b[0;36mTrainer.training_loop\u001b[0;34m(self, dataloader)\u001b[0m\n\u001b[1;32m    119\u001b[0m total_loss \u001b[38;5;241m=\u001b[39m \u001b[38;5;241m0.\u001b[39m\n\u001b[1;32m    120\u001b[0m \u001b[38;5;28;01mfor\u001b[39;00m images, labels \u001b[38;5;129;01min\u001b[39;00m tqdm(dataloader, desc\u001b[38;5;241m=\u001b[39m\u001b[38;5;124m'\u001b[39m\u001b[38;5;124mEpoch Train Progress\u001b[39m\u001b[38;5;124m'\u001b[39m):\n\u001b[0;32m--> 121\u001b[0m     images \u001b[38;5;241m=\u001b[39m \u001b[43mimages\u001b[49m\u001b[38;5;241;43m.\u001b[39;49m\u001b[43mto\u001b[49m\u001b[43m(\u001b[49m\u001b[38;5;28;43mself\u001b[39;49m\u001b[38;5;241;43m.\u001b[39;49m\u001b[43m_device\u001b[49m\u001b[43m)\u001b[49m\n\u001b[1;32m    122\u001b[0m     labels \u001b[38;5;241m=\u001b[39m labels\u001b[38;5;241m.\u001b[39mto(\u001b[38;5;28mself\u001b[39m\u001b[38;5;241m.\u001b[39m_device)\n\u001b[1;32m    124\u001b[0m     \u001b[38;5;66;03m# 10% chance of using cutmix or mixup.\u001b[39;00m\n",
      "\u001b[0;31mKeyboardInterrupt\u001b[0m: "
     ]
    }
   ],
   "source": [
    "trainer.train()"
   ]
  },
  {
   "cell_type": "code",
   "execution_count": 5,
   "id": "7b2139fb-c4f4-4241-ad69-f3c7e4e76b83",
   "metadata": {
    "execution": {
     "iopub.execute_input": "2024-01-21T14:28:35.603035Z",
     "iopub.status.busy": "2024-01-21T14:28:35.602756Z",
     "iopub.status.idle": "2024-01-21T14:28:35.609518Z",
     "shell.execute_reply": "2024-01-21T14:28:35.608598Z",
     "shell.execute_reply.started": "2024-01-21T14:28:35.603010Z"
    }
   },
   "outputs": [
    {
     "data": {
      "text/plain": [
       "[0.004857142921537161,\n",
       " 0.0077142855152487755,\n",
       " 0.008857143111526966,\n",
       " 0.010857142508029938,\n",
       " 0.01485714316368103,\n",
       " 0.02685714326798916,\n",
       " 0.03457142785191536,\n",
       " 0.05371428653597832,\n",
       " 0.06599999964237213,\n",
       " 0.09514285624027252,\n",
       " 0.10514285415410995]"
      ]
     },
     "execution_count": 5,
     "metadata": {},
     "output_type": "execute_result"
    }
   ],
   "source": [
    "trainer.correct_fracs"
   ]
  },
  {
   "cell_type": "code",
   "execution_count": null,
   "id": "97fd6fdd-d5bf-425b-a38f-3c8fd6bdce7f",
   "metadata": {},
   "outputs": [],
   "source": []
  }
 ],
 "metadata": {
  "kernelspec": {
   "display_name": "Python 3 (ipykernel)",
   "language": "python",
   "name": "python3"
  },
  "language_info": {
   "codemirror_mode": {
    "name": "ipython",
    "version": 3
   },
   "file_extension": ".py",
   "mimetype": "text/x-python",
   "name": "python",
   "nbconvert_exporter": "python",
   "pygments_lexer": "ipython3",
   "version": "3.9.16"
  }
 },
 "nbformat": 4,
 "nbformat_minor": 5
}
