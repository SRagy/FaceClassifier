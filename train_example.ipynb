{
 "cells": [
  {
   "cell_type": "code",
   "execution_count": 1,
   "id": "b810de89-0521-4d98-8eb8-3b57f64058ae",
   "metadata": {
    "execution": {
     "iopub.execute_input": "2024-01-20T11:42:13.058516Z",
     "iopub.status.busy": "2024-01-20T11:42:13.057751Z",
     "iopub.status.idle": "2024-01-20T11:42:18.394001Z",
     "shell.execute_reply": "2024-01-20T11:42:18.393296Z",
     "shell.execute_reply.started": "2024-01-20T11:42:13.058488Z"
    }
   },
   "outputs": [
    {
     "name": "stderr",
     "output_type": "stream",
     "text": [
      "/usr/local/lib/python3.9/dist-packages/pl_bolts/models/self_supervised/amdim/amdim_module.py:34: UnderReviewWarning: The feature generate_power_seq is currently marked under review. The compatibility with other Lightning projects is not guaranteed and API may change at any time. The API and functionality may change without warning in future releases. More details: https://lightning-bolts.readthedocs.io/en/latest/stability.html\n",
      "  \"lr_options\": generate_power_seq(LEARNING_RATE_CIFAR, 11),\n",
      "/usr/local/lib/python3.9/dist-packages/pl_bolts/models/self_supervised/amdim/amdim_module.py:92: UnderReviewWarning: The feature FeatureMapContrastiveTask is currently marked under review. The compatibility with other Lightning projects is not guaranteed and API may change at any time. The API and functionality may change without warning in future releases. More details: https://lightning-bolts.readthedocs.io/en/latest/stability.html\n",
      "  contrastive_task: Union[FeatureMapContrastiveTask] = FeatureMapContrastiveTask(\"01, 02, 11\"),\n",
      "/usr/local/lib/python3.9/dist-packages/pl_bolts/losses/self_supervised_learning.py:228: UnderReviewWarning: The feature AmdimNCELoss is currently marked under review. The compatibility with other Lightning projects is not guaranteed and API may change at any time. The API and functionality may change without warning in future releases. More details: https://lightning-bolts.readthedocs.io/en/latest/stability.html\n",
      "  self.nce_loss = AmdimNCELoss(tclip)\n",
      "/usr/local/lib/python3.9/dist-packages/torchvision/transforms/v2/_deprecated.py:43: UserWarning: The transform `ToTensor()` is deprecated and will be removed in a future release. Instead, please use `v2.Compose([v2.ToImage(), v2.ToDtype(torch.float32, scale=True)])`.\n",
      "  warnings.warn(\n"
     ]
    }
   ],
   "source": [
    "import torch\n",
    "from training import Trainer\n",
    "from data import default_train_transforms, DefaultLoader\n",
    "from architecture import FaceNN"
   ]
  },
  {
   "cell_type": "markdown",
   "id": "21bdff36-b3c4-4ac4-adb0-9afa6ef48937",
   "metadata": {},
   "source": [
    "## Prepare for training"
   ]
  },
  {
   "cell_type": "code",
   "execution_count": 2,
   "id": "1c7b772d-bfff-4db4-8e5f-dad226cd82a1",
   "metadata": {
    "execution": {
     "iopub.execute_input": "2024-01-20T11:42:20.702518Z",
     "iopub.status.busy": "2024-01-20T11:42:20.701802Z",
     "iopub.status.idle": "2024-01-20T11:42:31.621497Z",
     "shell.execute_reply": "2024-01-20T11:42:31.620825Z",
     "shell.execute_reply.started": "2024-01-20T11:42:20.702486Z"
    }
   },
   "outputs": [
    {
     "name": "stderr",
     "output_type": "stream",
     "text": [
      "/usr/local/lib/python3.9/dist-packages/torch/nn/modules/lazy.py:180: UserWarning: Lazy modules are a new feature under heavy development so changes to the API or functionality can happen at any moment.\n",
      "  warnings.warn('Lazy modules are a new feature under heavy development '\n"
     ]
    }
   ],
   "source": [
    "train_loader = DefaultLoader.load_train(transform=default_train_transforms, batch_size=128)\n",
    "val_loader = DefaultLoader.load_val(batch_size=128)\n",
    "neural_net = FaceNN().to('cuda')"
   ]
  },
  {
   "cell_type": "code",
   "execution_count": 3,
   "id": "9027cd48-e6ae-4781-834a-b5d8af19fa19",
   "metadata": {
    "execution": {
     "iopub.execute_input": "2024-01-20T11:42:32.352737Z",
     "iopub.status.busy": "2024-01-20T11:42:32.352045Z",
     "iopub.status.idle": "2024-01-20T11:42:32.364600Z",
     "shell.execute_reply": "2024-01-20T11:42:32.363967Z",
     "shell.execute_reply.started": "2024-01-20T11:42:32.352712Z"
    }
   },
   "outputs": [
    {
     "name": "stderr",
     "output_type": "stream",
     "text": [
      "/notebooks/FaceClassifier/training.py:76: UnderReviewWarning: The feature LinearWarmupCosineAnnealingLR is currently marked under review. The compatibility with other Lightning projects is not guaranteed and API may change at any time. The API and functionality may change without warning in future releases. More details: https://lightning-bolts.readthedocs.io/en/latest/stability.html\n",
      "  self._lr_scheduler=LinearWarmupCosineAnnealingLR(self._optimizer,\n"
     ]
    }
   ],
   "source": [
    "trainer = Trainer(train_loader, val_loader, neural_net, device='cuda')"
   ]
  },
  {
   "cell_type": "code",
   "execution_count": 4,
   "id": "33c8e6b3-b14a-4ae8-a8e8-4c79e0a815bf",
   "metadata": {
    "execution": {
     "iopub.execute_input": "2024-01-20T11:42:36.426724Z",
     "iopub.status.busy": "2024-01-20T11:42:36.426192Z",
     "iopub.status.idle": "2024-01-20T11:42:37.265246Z",
     "shell.execute_reply": "2024-01-20T11:42:37.264658Z",
     "shell.execute_reply.started": "2024-01-20T11:42:36.426699Z"
    }
   },
   "outputs": [
    {
     "name": "stdout",
     "output_type": "stream",
     "text": [
      "loaded trainer state at epoch 6\n"
     ]
    },
    {
     "data": {
      "text/plain": [
       "[0.00014283673954196274,\n",
       " 0.00014283673954196274,\n",
       " 0.00017140408453997225,\n",
       " 0.00014283673954196274,\n",
       " 0.00019997142953798175,\n",
       " 0.00014283673954196274]"
      ]
     },
     "execution_count": 4,
     "metadata": {},
     "output_type": "execute_result"
    }
   ],
   "source": [
    "trainer.load()\n",
    "trainer.val_errors"
   ]
  },
  {
   "cell_type": "code",
   "execution_count": null,
   "id": "c6147d3c-202a-4425-adfa-416ece3d046d",
   "metadata": {
    "execution": {
     "iopub.execute_input": "2024-01-20T02:25:35.980777Z",
     "iopub.status.busy": "2024-01-20T02:25:35.980625Z"
    }
   },
   "outputs": [
    {
     "name": "stderr",
     "output_type": "stream",
     "text": [
      "Epoch Train Progress: 100%|██████████| 1094/1094 [40:52<00:00,  2.24s/it] \n",
      "Epoch Val Progress: 100%|██████████| 274/274 [06:56<00:00,  1.52s/it]\n"
     ]
    },
    {
     "name": "stdout",
     "output_type": "stream",
     "text": [
      " epoch = 1, train loss = 9.694e+03, percent_correct = 0.0%, epochs since improvement = 0   saved trainer state at epoch 1\n"
     ]
    },
    {
     "name": "stderr",
     "output_type": "stream",
     "text": [
      "Epoch Train Progress:   1%|          | 12/1094 [00:22<27:40,  1.53s/it]"
     ]
    }
   ],
   "source": [
    "trainer.train()"
   ]
  }
 ],
 "metadata": {
  "kernelspec": {
   "display_name": "Python 3 (ipykernel)",
   "language": "python",
   "name": "python3"
  },
  "language_info": {
   "codemirror_mode": {
    "name": "ipython",
    "version": 3
   },
   "file_extension": ".py",
   "mimetype": "text/x-python",
   "name": "python",
   "nbconvert_exporter": "python",
   "pygments_lexer": "ipython3",
   "version": "3.9.16"
  }
 },
 "nbformat": 4,
 "nbformat_minor": 5
}
